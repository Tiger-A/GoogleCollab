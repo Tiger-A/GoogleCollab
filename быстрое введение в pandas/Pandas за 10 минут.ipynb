{
  "cells": [
    {
      "cell_type": "markdown",
      "metadata": {
        "id": "_wCDSxUINRFV"
      },
      "source": [
        "<a href=\"https://colab.research.google.com/github/dm-fedorov/pandas_basic/blob/master/быстрое%20введение%20в%20pandas/Pandas%20за%2010%20минут.ipynb\"><img align=\"left\" src=\"https://colab.research.google.com/assets/colab-badge.svg\" alt=\"Open in Colab\" title=\"Open and Execute in Google Colaboratory\" target=\"_blank\"></a>"
      ]
    },
    {
      "cell_type": "markdown",
      "metadata": {
        "id": "zy7L2QIrNRFZ"
      },
      "source": [
        "# Pandas за 10 минут\n",
        "\n",
        "<a href=\"https://t.me/init_python\"><img src=\"https://dfedorov.spb.ru/pandas/logo-telegram.png\" width=\"35\" height=\"35\" alt=\"telegram\" align=\"left\"></a>"
      ]
    },
    {
      "cell_type": "markdown",
      "metadata": {
        "id": "VVm4NUhVNRFa"
      },
      "source": [
        "Это короткое введение в мир pandas, ориентированное в основном на новых пользователей. Более сложные рецепты можно найти в [Поваренной книге](https://pandas.pydata.org/pandas-docs/stable/user_guide/cookbook.html#cookbook)."
      ]
    },
    {
      "cell_type": "markdown",
      "metadata": {
        "id": "PAqOaSJYNRFb"
      },
      "source": [
        "Обычно импорт выглядит так и к нему все привыкли:"
      ]
    },
    {
      "cell_type": "code",
      "execution_count": null,
      "metadata": {
        "id": "9eA5O1BZNRFc"
      },
      "outputs": [],
      "source": [
        "import numpy as np\n",
        "import pandas as pd"
      ]
    },
    {
      "cell_type": "markdown",
      "metadata": {
        "id": "QDXLCXQXNRFd"
      },
      "source": [
        "## Создание объекта"
      ]
    },
    {
      "cell_type": "markdown",
      "metadata": {
        "id": "uLzYbc77NRFd"
      },
      "source": [
        "Подробнее см. [Введение в структуры данных pandas](https://pandas.pydata.org/pandas-docs/stable/user_guide/dsintro.html#dsintro)"
      ]
    },
    {
      "cell_type": "markdown",
      "metadata": {
        "id": "S1cADK53NRFe"
      },
      "source": [
        "Создание `Серии` ([`Series`](https://pandas.pydata.org/pandas-docs/stable/reference/api/pandas.Series.html#pandas.Series)) путем передачи питоновского списка позволет pandas создать целочисленный индекс по умолчанию:"
      ]
    },
    {
      "cell_type": "code",
      "execution_count": null,
      "metadata": {
        "id": "ro-0g1gANRFf"
      },
      "outputs": [],
      "source": [
        "s = pd.Series([1, 3, 5, np.nan, 6, 8])\n",
        "s"
      ]
    },
    {
      "cell_type": "markdown",
      "metadata": {
        "id": "5l-VrS_gNRFg"
      },
      "source": [
        "Создание `Кадра данных` ([`DataFrame`](https://pandas.pydata.org/pandas-docs/stable/reference/api/pandas.DataFrame.html#pandas.DataFrame)) путем передачи массива NumPy с временнЫм индексом и помеченными столбцами:"
      ]
    },
    {
      "cell_type": "code",
      "execution_count": null,
      "metadata": {
        "id": "-FXSNVFBNRFh"
      },
      "outputs": [],
      "source": [
        "# указываем начало временнОго периода и число повторений (дни по умолчанию)\n",
        "dates = pd.date_range('20130101', periods=6) \n",
        "dates"
      ]
    },
    {
      "cell_type": "code",
      "execution_count": null,
      "metadata": {
        "id": "l7ncsKl4NRFi"
      },
      "outputs": [],
      "source": [
        "df = pd.DataFrame(np.random.randn(6, 4), index=dates, columns=list('ABCD'))\n",
        "df"
      ]
    },
    {
      "cell_type": "markdown",
      "metadata": {
        "id": "Dey3N29QNRFj"
      },
      "source": [
        "Создать [`DataFrame`](https://pandas.pydata.org/pandas-docs/stable/reference/api/pandas.DataFrame.html#pandas.DataFrame) можно путем передачи питоновского словаря объектов, которые можно преобразовать в серию."
      ]
    },
    {
      "cell_type": "code",
      "execution_count": null,
      "metadata": {
        "id": "h6HMLlWVNRFk"
      },
      "outputs": [],
      "source": [
        "df2 = pd.DataFrame({'A': 1.,\n",
        "                    'B': pd.Timestamp('20130102'), # временнАя метка\n",
        "                    'C': pd.Series(1, index=list(range(4)), dtype='float32'), # Серия на основе списка\n",
        "                    'D': np.array([3] * 4, dtype='int32'), # массив целых чисел NumPy \n",
        "                    'E': pd.Categorical([\"test\", \"train\", \"test\", \"train\"]), # категории\n",
        "                    'F': 'foo'})\n",
        "df2"
      ]
    },
    {
      "cell_type": "markdown",
      "metadata": {
        "id": "rzaYT_yxNRFl"
      },
      "source": [
        "Столбцы итогового [`DataFrame`](https://pandas.pydata.org/pandas-docs/stable/reference/api/pandas.DataFrame.html#pandas.DataFrame) имеют разные [типы данных](https://pandas.pydata.org/pandas-docs/stable/user_guide/basics.html#basics-dtypes)."
      ]
    },
    {
      "cell_type": "code",
      "execution_count": null,
      "metadata": {
        "id": "RUgFeouwNRFl"
      },
      "outputs": [],
      "source": [
        "df2.dtypes"
      ]
    },
    {
      "cell_type": "markdown",
      "metadata": {
        "id": "7yoor2J5NRFm"
      },
      "source": [
        "Если вы используете `IPython` или `Jupyter (Lab) Notebook (Colab)`, то по нажатию TAB после точки отобразятся публичные атрибуты объекта (в данном случае `DataFrame`): "
      ]
    },
    {
      "cell_type": "code",
      "execution_count": null,
      "metadata": {
        "id": "AmPDu2qRNRFm"
      },
      "outputs": [],
      "source": [
        "# Попробуйте убрать комментарий и нажать TAB\n",
        "# df2.<TAB>  "
      ]
    },
    {
      "cell_type": "markdown",
      "metadata": {
        "id": "HUngXK3INRFm"
      },
      "source": [
        "## Просмотр данных"
      ]
    },
    {
      "cell_type": "markdown",
      "metadata": {
        "id": "4eSnmsXmNRFn"
      },
      "source": [
        "Подробнее см. [Документацию по базовой функциональности](https://pandas.pydata.org/pandas-docs/stable/user_guide/basics.html#basics)."
      ]
    },
    {
      "cell_type": "markdown",
      "metadata": {
        "id": "DYb9YyKiNRFn"
      },
      "source": [
        "Просмотрим верхние и нижние строки полученного кадра данных:"
      ]
    },
    {
      "cell_type": "code",
      "execution_count": null,
      "metadata": {
        "id": "hcPhzB-PNRFo"
      },
      "outputs": [],
      "source": [
        "df.head()"
      ]
    },
    {
      "cell_type": "code",
      "execution_count": null,
      "metadata": {
        "id": "JfMdc3kXNRFo"
      },
      "outputs": [],
      "source": [
        "df.tail(3) # вывести последние три строки"
      ]
    },
    {
      "cell_type": "markdown",
      "metadata": {
        "id": "PjXKUdb0NRFp"
      },
      "source": [
        "Отобразим индекс и столбцы:"
      ]
    },
    {
      "cell_type": "code",
      "execution_count": null,
      "metadata": {
        "id": "pWIkzUdSNRFp"
      },
      "outputs": [],
      "source": [
        "df.index"
      ]
    },
    {
      "cell_type": "code",
      "execution_count": null,
      "metadata": {
        "id": "NvBKmBsCNRFp"
      },
      "outputs": [],
      "source": [
        "df.columns"
      ]
    },
    {
      "cell_type": "markdown",
      "metadata": {
        "id": "bFnDSwCuNRFp"
      },
      "source": [
        "Метод [`DataFrame.to_numpy()`](https://pandas.pydata.org/pandas-docs/stable/reference/api/pandas.DataFrame.to_numpy.html#pandas.DataFrame.to_numpy) представляет данные в виде массива NumPy, на котором строится DataFrame. "
      ]
    },
    {
      "cell_type": "code",
      "execution_count": null,
      "metadata": {
        "id": "DkEiIDuWNRFq"
      },
      "outputs": [],
      "source": [
        "df.to_numpy()"
      ]
    },
    {
      "cell_type": "markdown",
      "metadata": {
        "id": "Ny_YdoQANRFq"
      },
      "source": [
        "Обратите внимание, что эта операция может занять много времени, если ваш `DataFrame` имеет столбцы с разными типами данных, что сводится к фундаментальному различию между pandas и `NumPy`: массивы `NumPy` имеют один тип данных для всего массива, тогда как `DataFrames` в pandas имеет один тип данных для каждого столбца. Когда вы вызываете `DataFrame.to_numpy()`, pandas определит тип данных `NumPy`, который может содержать все типы данных `DataFrame`. Этот тип данных может в конечном итоге оказаться объектом (`object`, т.е. строкой), что потребует приведения каждого значения к объекту Python.\n",
        "\n",
        "Наш `DataFrame` содержит значения с плавающей точкой, поэтому `DataFrame.to_numpy()` сработает быстро и не требует копирования данных."
      ]
    },
    {
      "cell_type": "markdown",
      "metadata": {
        "id": "CCUKTMCTNRFr"
      },
      "source": [
        "Для df2, который содержит несколько типов данных, вызов `DataFrame.to_numpy()` является относительно дорогостоящим:"
      ]
    },
    {
      "cell_type": "code",
      "execution_count": null,
      "metadata": {
        "id": "cSA-JbrZNRFr"
      },
      "outputs": [],
      "source": [
        "df2.to_numpy()"
      ]
    },
    {
      "cell_type": "markdown",
      "metadata": {
        "id": "E0eJabmPNRFr"
      },
      "source": [
        "Обратите внимание, что `DataFrame.to_numpy()` не включает в вывод метки индекса или столбцов."
      ]
    },
    {
      "cell_type": "markdown",
      "metadata": {
        "id": "L-GMJrUENRFr"
      },
      "source": [
        "Метод [`describe()`](https://pandas.pydata.org/pandas-docs/stable/reference/api/pandas.DataFrame.describe.html#pandas.DataFrame.describe) показывает краткую статистическую сводку для данных:"
      ]
    },
    {
      "cell_type": "code",
      "execution_count": null,
      "metadata": {
        "id": "xUrSORMLNRFr"
      },
      "outputs": [],
      "source": [
        "df.describe()"
      ]
    },
    {
      "cell_type": "markdown",
      "metadata": {
        "id": "s5sZUMfbNRFs"
      },
      "source": [
        "Транспонируем данные:"
      ]
    },
    {
      "cell_type": "code",
      "execution_count": null,
      "metadata": {
        "id": "VdcyNUGANRFs"
      },
      "outputs": [],
      "source": [
        "df.T"
      ]
    },
    {
      "cell_type": "markdown",
      "metadata": {
        "id": "LOuaVLO9NRFs"
      },
      "source": [
        "Сортировка по столбцам, см. [`sort_index()`](https://pandas.pydata.org/pandas-docs/stable/reference/api/pandas.DataFrame.sort_index.html):"
      ]
    },
    {
      "cell_type": "code",
      "execution_count": null,
      "metadata": {
        "id": "njB1-RmYNRFs"
      },
      "outputs": [],
      "source": [
        "df.sort_index(axis=1, ascending=False) # по умолчанию axis=0, т.е. сортировка по строкам"
      ]
    },
    {
      "cell_type": "markdown",
      "metadata": {
        "id": "9O4KqTUeNRFt"
      },
      "source": [
        "Сортировка по значениям, см. [`sort_values()`](https://pandas.pydata.org/pandas-docs/stable/reference/api/pandas.DataFrame.sort_values.html#pandas.DataFrame.sort_values):"
      ]
    },
    {
      "cell_type": "code",
      "execution_count": null,
      "metadata": {
        "id": "60TfUEDfNRFt"
      },
      "outputs": [],
      "source": [
        "df.sort_values(by='B') # по умолчанию сортировка по индексу, выбрали столбец 'B'"
      ]
    },
    {
      "cell_type": "markdown",
      "metadata": {
        "id": "iwzBYDUuNRFt"
      },
      "source": [
        "## Выбор"
      ]
    },
    {
      "cell_type": "markdown",
      "metadata": {
        "id": "IbjwLH9TNRFt"
      },
      "source": [
        "Рекомендуем использовать оптимизированные методы pandas для доступа к данным: `.at`, `.iat`, `.loc` и `.iloc`."
      ]
    },
    {
      "cell_type": "markdown",
      "metadata": {
        "id": "II63ngQ8NRFt"
      },
      "source": [
        "Подробнее см. [Документацию по индексированию и выбору данных](https://pandas.pydata.org/pandas-docs/stable/user_guide/indexing.html#indexing) и [Мультииндексу](https://pandas.pydata.org/pandas-docs/stable/user_guide/advanced.html#advanced)."
      ]
    },
    {
      "cell_type": "markdown",
      "metadata": {
        "id": "I_G8ioUPNRFu"
      },
      "source": [
        "### Получение"
      ]
    },
    {
      "cell_type": "markdown",
      "metadata": {
        "id": "EkUfRByINRFu"
      },
      "source": [
        "Выбор столбца, который возвращает [`Series`](https://pandas.pydata.org/pandas-docs/stable/reference/api/pandas.Series.html#pandas.Series), эквивалентно `df.A`:"
      ]
    },
    {
      "cell_type": "code",
      "execution_count": null,
      "metadata": {
        "id": "64WbNhRFNRFu"
      },
      "outputs": [],
      "source": [
        "df['A']"
      ]
    },
    {
      "cell_type": "markdown",
      "metadata": {
        "id": "IaJLMT7VNRFu"
      },
      "source": [
        "Выбор с помощью `[ ]`, вырезает строки:"
      ]
    },
    {
      "cell_type": "code",
      "execution_count": null,
      "metadata": {
        "id": "iEN_LYf8NRFu"
      },
      "outputs": [],
      "source": [
        "df[0:3]"
      ]
    },
    {
      "cell_type": "code",
      "execution_count": null,
      "metadata": {
        "id": "2iDDnKTQNRFu"
      },
      "outputs": [],
      "source": [
        "df['20130102':'20130104']"
      ]
    },
    {
      "cell_type": "markdown",
      "metadata": {
        "id": "gsw0qymjNRFv"
      },
      "source": [
        "### Выбор по метке"
      ]
    },
    {
      "cell_type": "markdown",
      "metadata": {
        "id": "RGXuaPbSNRFv"
      },
      "source": [
        "Подробнее см. в [Документации](https://pandas.pydata.org/pandas-docs/stable/user_guide/indexing.html#indexing-label)"
      ]
    },
    {
      "cell_type": "markdown",
      "metadata": {
        "id": "q-vYMWoZNRFv"
      },
      "source": [
        "Для получения строки с помощью метки:"
      ]
    },
    {
      "cell_type": "code",
      "execution_count": null,
      "metadata": {
        "id": "c60JA7kFNRFv"
      },
      "outputs": [],
      "source": [
        "df.loc[dates[0]] # метка индекса Timestamp('2013-01-01 00:00:00', freq='D')"
      ]
    },
    {
      "cell_type": "markdown",
      "metadata": {
        "id": "EqUiY4DANRFv"
      },
      "source": [
        "Выбор по нескольким осям:"
      ]
    },
    {
      "cell_type": "code",
      "execution_count": null,
      "metadata": {
        "id": "ODuPqHLRNRFv"
      },
      "outputs": [],
      "source": [
        "df.loc[:, ['A', 'B']]"
      ]
    },
    {
      "cell_type": "markdown",
      "metadata": {
        "id": "iHGH7zIENRFw"
      },
      "source": [
        "При отображении срезов меток включаются обе конечные точки:"
      ]
    },
    {
      "cell_type": "code",
      "execution_count": null,
      "metadata": {
        "id": "FVCbWVR4NRFw"
      },
      "outputs": [],
      "source": [
        "df.loc['20130102':'20130104', ['A', 'B']]"
      ]
    },
    {
      "cell_type": "markdown",
      "metadata": {
        "id": "goWnbDtVNRFw"
      },
      "source": [
        "Уменьшение размерности возвращаемого объекта:"
      ]
    },
    {
      "cell_type": "code",
      "execution_count": null,
      "metadata": {
        "id": "iTdotOPwNRFw"
      },
      "outputs": [],
      "source": [
        "df.loc['20130102', ['A', 'B']]"
      ]
    },
    {
      "cell_type": "markdown",
      "metadata": {
        "id": "qBpLobcjNRFw"
      },
      "source": [
        "Для получения скалярного значения:"
      ]
    },
    {
      "cell_type": "code",
      "execution_count": null,
      "metadata": {
        "id": "TBlFbivoNRFx"
      },
      "outputs": [],
      "source": [
        "df.loc[dates[0], 'A']"
      ]
    },
    {
      "cell_type": "markdown",
      "metadata": {
        "id": "dDjgX8rwNRFx"
      },
      "source": [
        "Для получения быстрого доступа к скаляру (эквивалентно предыдущему методу):"
      ]
    },
    {
      "cell_type": "code",
      "execution_count": null,
      "metadata": {
        "id": "DOwoxRctNRFx"
      },
      "outputs": [],
      "source": [
        "df.at[dates[0], 'A']"
      ]
    },
    {
      "cell_type": "markdown",
      "metadata": {
        "id": "tjbWaGJINRFy"
      },
      "source": [
        "### Выбор по позиции"
      ]
    },
    {
      "cell_type": "markdown",
      "metadata": {
        "id": "Bd83bUlNNRFy"
      },
      "source": [
        "Подробнее см. в [Документации](https://pandas.pydata.org/pandas-docs/stable/user_guide/indexing.html#indexing-integer)"
      ]
    },
    {
      "cell_type": "markdown",
      "metadata": {
        "id": "DlVoyfcvNRFy"
      },
      "source": [
        "Выбор позиции с помощью целых чисел:"
      ]
    },
    {
      "cell_type": "code",
      "execution_count": null,
      "metadata": {
        "id": "8F_n8kqtNRFy"
      },
      "outputs": [],
      "source": [
        "df.iloc[3]"
      ]
    },
    {
      "cell_type": "markdown",
      "metadata": {
        "id": "FxEOD7_zNRFz"
      },
      "source": [
        "По целочисленным срезам, действующим аналогично NumPy / Python, т.е. правое граничное значение не включается:"
      ]
    },
    {
      "cell_type": "code",
      "execution_count": null,
      "metadata": {
        "id": "4yKEJH62NRFz"
      },
      "outputs": [],
      "source": [
        "df.iloc[3:5, 0:2]"
      ]
    },
    {
      "cell_type": "markdown",
      "metadata": {
        "id": "uoHLhyxgNRFz"
      },
      "source": [
        "По спискам целочисленных позиций, аналогично стилю NumPy / Python:"
      ]
    },
    {
      "cell_type": "code",
      "execution_count": null,
      "metadata": {
        "id": "qTddQTevNRFz"
      },
      "outputs": [],
      "source": [
        "df.iloc[[1, 2, 4], [0, 2]]"
      ]
    },
    {
      "cell_type": "markdown",
      "metadata": {
        "id": "peiGJ3jWNRFz"
      },
      "source": [
        "Для явного создания среза строк:"
      ]
    },
    {
      "cell_type": "code",
      "execution_count": null,
      "metadata": {
        "id": "_VLNMGAINRF0"
      },
      "outputs": [],
      "source": [
        "df.iloc[1:3, :]"
      ]
    },
    {
      "cell_type": "markdown",
      "metadata": {
        "id": "CL3rEhVkNRF0"
      },
      "source": [
        "Для явного создания среза столбцов:"
      ]
    },
    {
      "cell_type": "code",
      "execution_count": null,
      "metadata": {
        "id": "WcPCvxSJNRF0"
      },
      "outputs": [],
      "source": [
        "df.iloc[:, 1:3]"
      ]
    },
    {
      "cell_type": "markdown",
      "metadata": {
        "id": "-DSf5yU0NRF0"
      },
      "source": [
        "Для явного получения значений:"
      ]
    },
    {
      "cell_type": "code",
      "execution_count": null,
      "metadata": {
        "id": "xpAxflSVNRF0"
      },
      "outputs": [],
      "source": [
        "df.iloc[1, 1]"
      ]
    },
    {
      "cell_type": "markdown",
      "metadata": {
        "id": "tlnGgQ9qNRF0"
      },
      "source": [
        "Для получения быстрого доступа к скаляру (эквивалентно предыдущему методу):"
      ]
    },
    {
      "cell_type": "code",
      "execution_count": null,
      "metadata": {
        "id": "WzjABZhTNRF0"
      },
      "outputs": [],
      "source": [
        "df.iat[1, 1]"
      ]
    },
    {
      "cell_type": "markdown",
      "metadata": {
        "id": "ckkCkm-TNRF1"
      },
      "source": [
        "### Булево индексирование"
      ]
    },
    {
      "cell_type": "markdown",
      "metadata": {
        "id": "_MrDK-NZNRF1"
      },
      "source": [
        "Использование значений одного столбца для выбора данных:"
      ]
    },
    {
      "cell_type": "code",
      "execution_count": null,
      "metadata": {
        "id": "LWYx-gC3NRF1"
      },
      "outputs": [],
      "source": [
        "df[df['A'] > 0]"
      ]
    },
    {
      "cell_type": "markdown",
      "metadata": {
        "id": "K9Ibfwx8NRF1"
      },
      "source": [
        "Выбор значений из `DataFrame`, для которых выполняется логическое условие:"
      ]
    },
    {
      "cell_type": "code",
      "execution_count": null,
      "metadata": {
        "id": "NMfrHhZZNRF1"
      },
      "outputs": [],
      "source": [
        "df[df > 0]"
      ]
    },
    {
      "cell_type": "markdown",
      "metadata": {
        "id": "9fo6AqDgNRF1"
      },
      "source": [
        "Использование метода [`isin()`](https://pandas.pydata.org/pandas-docs/stable/reference/api/pandas.Series.isin.html#pandas.Series.isin) для фильтрации:"
      ]
    },
    {
      "cell_type": "code",
      "execution_count": null,
      "metadata": {
        "id": "YCtJFUHYNRF2"
      },
      "outputs": [],
      "source": [
        "df2 = df.copy() # создаем копию исходгого кадра данных"
      ]
    },
    {
      "cell_type": "code",
      "execution_count": null,
      "metadata": {
        "id": "YH55W9bpNRF2"
      },
      "outputs": [],
      "source": [
        "df2['E'] = ['one', 'one', 'two', 'three', 'four', 'three'] # добавляем столбец\n",
        "df2"
      ]
    },
    {
      "cell_type": "code",
      "execution_count": null,
      "metadata": {
        "id": "RmyC7k2TNRF2"
      },
      "outputs": [],
      "source": [
        "df2[df2['E'].isin(['two', 'four'])] # фильтруем"
      ]
    },
    {
      "cell_type": "markdown",
      "metadata": {
        "id": "Oz21cGqDNRF2"
      },
      "source": [
        "### Установка значений"
      ]
    },
    {
      "cell_type": "markdown",
      "metadata": {
        "id": "o0wH1ymmNRF2"
      },
      "source": [
        "При добавлении нового столбца данные автоматически выравниваются по индексам:"
      ]
    },
    {
      "cell_type": "code",
      "execution_count": null,
      "metadata": {
        "id": "nDDJl_nSNRF2"
      },
      "outputs": [],
      "source": [
        "s1 = pd.Series([1, 2, 3, 4, 5, 6], index=pd.date_range('20130102', periods=6))\n",
        "s1"
      ]
    },
    {
      "cell_type": "code",
      "execution_count": null,
      "metadata": {
        "id": "Z28aAjt6NRF2"
      },
      "outputs": [],
      "source": [
        "df['F'] = s1 # отсутствующие значения после выравнивания заменились NaN\n",
        "df"
      ]
    },
    {
      "cell_type": "markdown",
      "metadata": {
        "id": "-265-rMLNRF3"
      },
      "source": [
        "Установка значений по метке:"
      ]
    },
    {
      "cell_type": "code",
      "execution_count": null,
      "metadata": {
        "id": "B6zSMA5GNRF3"
      },
      "outputs": [],
      "source": [
        "df.iat[0, 1] = 0\n",
        "df"
      ]
    },
    {
      "cell_type": "markdown",
      "metadata": {
        "id": "J-OTf4xONRF3"
      },
      "source": [
        "Установка значений путем присвоения массива NumPy:"
      ]
    },
    {
      "cell_type": "code",
      "execution_count": null,
      "metadata": {
        "id": "3HEjAzN5NRF3"
      },
      "outputs": [],
      "source": [
        "df.loc[:, 'D'] = np.array([5] * len(df))\n",
        "df"
      ]
    },
    {
      "cell_type": "markdown",
      "metadata": {
        "id": "BUdk-lE4NRF3"
      },
      "source": [
        "Операция [`where`](https://pandas.pydata.org/pandas-docs/stable/reference/api/pandas.DataFrame.where.html) с помощью присвоения:"
      ]
    },
    {
      "cell_type": "code",
      "execution_count": null,
      "metadata": {
        "id": "-CwKqGLJNRF3"
      },
      "outputs": [],
      "source": [
        "df2 = df.copy() # копируем кадр данных\n",
        "df2"
      ]
    },
    {
      "cell_type": "code",
      "execution_count": null,
      "metadata": {
        "id": "-0aOUR4INRF4"
      },
      "outputs": [],
      "source": [
        "df2[df2 > 0] = -df2 # все положительные превращаем в отрицательные\n",
        "df2"
      ]
    },
    {
      "cell_type": "markdown",
      "metadata": {
        "id": "7aFY9PjMNRF4"
      },
      "source": [
        "## Отсутствующие данные"
      ]
    },
    {
      "cell_type": "markdown",
      "metadata": {
        "id": "zgERBJOuNRF4"
      },
      "source": [
        "pandas в основном использует значение [`np.nan`](https://numpy.org/doc/stable/user/misc.html) для представления отсутствующих данных. По умолчанию они не включается в вычисления, см. подробнее в [Документации](https://pandas.pydata.org/pandas-docs/stable/user_guide/missing_data.html#missing-data)"
      ]
    },
    {
      "cell_type": "markdown",
      "metadata": {
        "id": "Td0_ZN9ANRF4"
      },
      "source": [
        "Повторное индексирование позволяет изменить/добавить/удалить индекс по указанной оси. Метод возвращает копию данных."
      ]
    },
    {
      "cell_type": "code",
      "execution_count": null,
      "metadata": {
        "id": "wGSmM4rSNRF4"
      },
      "outputs": [],
      "source": [
        "df1 = df.reindex(index=dates[0:4], columns=list(df.columns) + ['E'])\n",
        "df1"
      ]
    },
    {
      "cell_type": "code",
      "execution_count": null,
      "metadata": {
        "id": "BWc5z850NRF8"
      },
      "outputs": [],
      "source": [
        "df1.loc[dates[0]:dates[1], 'E'] = 1\n",
        "df1"
      ]
    },
    {
      "cell_type": "markdown",
      "metadata": {
        "id": "FQRnW9RGNRF8"
      },
      "source": [
        "Чтобы удалить строки, в которых отсутствуют данные, см. [`dropna()`](https://pandas.pydata.org/pandas-docs/stable/reference/api/pandas.DataFrame.dropna.html):"
      ]
    },
    {
      "cell_type": "code",
      "execution_count": null,
      "metadata": {
        "id": "v8kHOQ3NNRF8"
      },
      "outputs": [],
      "source": [
        "df1.dropna() # how='any', axis=0 по умолчанию, т.е. удаляются все строки с пропущенными данными"
      ]
    },
    {
      "cell_type": "markdown",
      "metadata": {
        "id": "g6XVIpD3NRF8"
      },
      "source": [
        "Заполнение недостающих данных:"
      ]
    },
    {
      "cell_type": "code",
      "execution_count": null,
      "metadata": {
        "id": "a0fpqnoYNRF8"
      },
      "outputs": [],
      "source": [
        "df1.fillna(value=5)"
      ]
    },
    {
      "cell_type": "markdown",
      "metadata": {
        "id": "85BMuRd-NRF9"
      },
      "source": [
        "Чтобы получить логическую маску, в которой значениями являются nan."
      ]
    },
    {
      "cell_type": "code",
      "execution_count": null,
      "metadata": {
        "id": "ReEdHEbeNRF9"
      },
      "outputs": [],
      "source": [
        "pd.isna(df1)"
      ]
    },
    {
      "cell_type": "markdown",
      "metadata": {
        "id": "JZMRGh_RNRF9"
      },
      "source": [
        "## Операции"
      ]
    },
    {
      "cell_type": "markdown",
      "metadata": {
        "id": "RydZ890tNRF9"
      },
      "source": [
        "См. в [Документации](https://pandas.pydata.org/pandas-docs/stable/user_guide/basics.html#basics-binop)"
      ]
    },
    {
      "cell_type": "markdown",
      "metadata": {
        "id": "HxRcvE70NRF9"
      },
      "source": [
        "### Статистика"
      ]
    },
    {
      "cell_type": "markdown",
      "metadata": {
        "id": "0Qv5N5DiNRF9"
      },
      "source": [
        "Операции в целом исключают пропущенные данные."
      ]
    },
    {
      "cell_type": "markdown",
      "metadata": {
        "id": "MT_M8K3wNRF9"
      },
      "source": [
        "Выполнение описательной статистики:"
      ]
    },
    {
      "cell_type": "code",
      "execution_count": null,
      "metadata": {
        "id": "foeM8esBNRF-"
      },
      "outputs": [],
      "source": [
        "df.mean()"
      ]
    },
    {
      "cell_type": "markdown",
      "metadata": {
        "id": "IwMl1qeONRF-"
      },
      "source": [
        "Та же операция на другой оси:"
      ]
    },
    {
      "cell_type": "code",
      "execution_count": null,
      "metadata": {
        "id": "oaSfSnRENRF-"
      },
      "outputs": [],
      "source": [
        "df.mean(1)"
      ]
    },
    {
      "cell_type": "markdown",
      "metadata": {
        "id": "zp1JYZLrNRF-"
      },
      "source": [
        "Операции с объектами разной размерности требуют выравнивания. pandas автоматически [транслируют](https://numpy.org/doc/stable/user/basics.broadcasting.html) по указанному измерению."
      ]
    },
    {
      "cell_type": "code",
      "execution_count": null,
      "metadata": {
        "id": "FXbPfVYDNRF-"
      },
      "outputs": [],
      "source": [
        "s = pd.Series([1, 3, 5, np.nan, 6, 8], index=dates).shift(2) # сдвигаем индекс\n",
        "s"
      ]
    },
    {
      "cell_type": "code",
      "execution_count": null,
      "metadata": {
        "id": "HMRLNKo1NRF-"
      },
      "outputs": [],
      "source": [
        "df"
      ]
    },
    {
      "cell_type": "code",
      "execution_count": null,
      "metadata": {
        "id": "WxnhRtpKNRF-"
      },
      "outputs": [],
      "source": [
        "df.sub(s, axis=0) # https://pandas.pydata.org/pandas-docs/stable/reference/api/pandas.DataFrame.sub.html"
      ]
    },
    {
      "cell_type": "markdown",
      "metadata": {
        "id": "51Bolp5rNRF_"
      },
      "source": [
        "### Apply"
      ]
    },
    {
      "cell_type": "markdown",
      "metadata": {
        "id": "SYwCOpHcNRF_"
      },
      "source": [
        "Применение функций к данным:"
      ]
    },
    {
      "cell_type": "code",
      "execution_count": null,
      "metadata": {
        "id": "z7GWSrCLNRF_"
      },
      "outputs": [],
      "source": [
        "df.apply(np.cumsum)"
      ]
    },
    {
      "cell_type": "code",
      "execution_count": null,
      "metadata": {
        "id": "dz9yDGrTNRF_"
      },
      "outputs": [],
      "source": [
        "df.apply(lambda x: x.max() - x.min())"
      ]
    },
    {
      "cell_type": "markdown",
      "metadata": {
        "id": "PigNWVotNRF_"
      },
      "source": [
        "### Гистограмма"
      ]
    },
    {
      "cell_type": "markdown",
      "metadata": {
        "id": "HoMBSmP4NRF_"
      },
      "source": [
        "Подробнее см. в [Документации](https://pandas.pydata.org/pandas-docs/stable/user_guide/basics.html#basics-discretization)"
      ]
    },
    {
      "cell_type": "code",
      "execution_count": null,
      "metadata": {
        "id": "aMTpME-iNRF_"
      },
      "outputs": [],
      "source": [
        "s = pd.Series(np.random.randint(0, 7, size=10))\n",
        "s"
      ]
    },
    {
      "cell_type": "code",
      "execution_count": null,
      "metadata": {
        "id": "77gh1EnpNRF_"
      },
      "outputs": [],
      "source": [
        "s.value_counts()"
      ]
    },
    {
      "cell_type": "markdown",
      "metadata": {
        "id": "OPFE6qkxNRGA"
      },
      "source": [
        "### Строковые методы"
      ]
    },
    {
      "cell_type": "markdown",
      "metadata": {
        "id": "QEubaJnFNRGA"
      },
      "source": [
        "Series оснащен набором методов в атрибуте `str` для обработки строк, которые упрощают работу с каждым элементом массива. Обратите внимание, что сопоставление с образцом (pattern-matching) в `str` обычно использует [регулярные выражения](https://docs.python.org/3/library/re.html) по умолчанию (а в некоторых случаях всегда использует их), см. в [Документации](https://pandas.pydata.org/pandas-docs/stable/user_guide/text.html#text-string-methods)."
      ]
    },
    {
      "cell_type": "code",
      "execution_count": null,
      "metadata": {
        "id": "Q6Qq2qqTNRGA"
      },
      "outputs": [],
      "source": [
        "s = pd.Series(['A', 'B', 'C', 'Aaba', 'Baca', np.nan, 'CABA', 'dog', 'cat'])\n",
        "s"
      ]
    },
    {
      "cell_type": "code",
      "execution_count": null,
      "metadata": {
        "id": "vG_s4rqrNRGA"
      },
      "outputs": [],
      "source": [
        "s.str.lower()"
      ]
    },
    {
      "cell_type": "markdown",
      "metadata": {
        "id": "udP8QlGTNRGA"
      },
      "source": [
        "## Объединение (Merge)"
      ]
    },
    {
      "cell_type": "markdown",
      "metadata": {
        "id": "_RlRBgPiNRGA"
      },
      "source": [
        "### Concat"
      ]
    },
    {
      "cell_type": "markdown",
      "metadata": {
        "id": "hnqYLMfSNRGB"
      },
      "source": [
        "pandas предоставляет различные средства для простого объединения объектов `Series` и `DataFrame` с различными видами логики множеств для индексов и функциональности реляционной алгебры в случае операций типа соединения (`join`) / слияния (`merge`), см. в [Документации](https://pandas.pydata.org/pandas-docs/stable/user_guide/merging.html#merging)."
      ]
    },
    {
      "cell_type": "markdown",
      "metadata": {
        "id": "xNS18xWqNRGB"
      },
      "source": [
        "Объединение объектов pandas вместе с помощью [`concat()`](https://pandas.pydata.org/pandas-docs/stable/reference/api/pandas.concat.html#pandas.concat):"
      ]
    },
    {
      "cell_type": "code",
      "execution_count": null,
      "metadata": {
        "id": "jYGsTSDkNRGB"
      },
      "outputs": [],
      "source": [
        "df = pd.DataFrame(np.random.randn(10, 4))\n",
        "df"
      ]
    },
    {
      "cell_type": "code",
      "execution_count": null,
      "metadata": {
        "id": "NfCPGliHNRGC"
      },
      "outputs": [],
      "source": [
        "pieces = [df[:3], df[3:7], df[7:]] # разбиваем на части"
      ]
    },
    {
      "cell_type": "code",
      "execution_count": null,
      "metadata": {
        "id": "Tqeqis-LNRGC"
      },
      "outputs": [],
      "source": [
        "pd.concat(pieces)"
      ]
    },
    {
      "cell_type": "markdown",
      "metadata": {
        "id": "pBxuiTiqNRGC"
      },
      "source": [
        "Добавление столбца в [`DataFrame`](https://pandas.pydata.org/pandas-docs/stable/reference/api/pandas.DataFrame.html#pandas.DataFrame) выполняется относительно быстро. Однако для добавления строки требуется создание копии, и это может стать трудозтратной операцией. Рекомендуем передавать предварительно созданный список записей в конструктор `DataFrame` вместо создания `DataFrame` путем итеративного добавления к нему записей. Подробнее см. в [Документации](https://pandas.pydata.org/pandas-docs/stable/user_guide/merging.html#merging-concatenation)."
      ]
    },
    {
      "cell_type": "markdown",
      "metadata": {
        "id": "ne3QsdJ4NRGD"
      },
      "source": [
        "### Присоединение (Join)"
      ]
    },
    {
      "cell_type": "markdown",
      "metadata": {
        "id": "EIwMvoLMNRGD"
      },
      "source": [
        "Слияние в стиле `SQL`, см. в [Документации](https://pandas.pydata.org/pandas-docs/stable/user_guide/merging.html#merging-join)."
      ]
    },
    {
      "cell_type": "code",
      "execution_count": null,
      "metadata": {
        "id": "Hv8y2P0DNRGD"
      },
      "outputs": [],
      "source": [
        "left = pd.DataFrame({'key': ['foo', 'foo'], 'lval': [1, 2]})\n",
        "left"
      ]
    },
    {
      "cell_type": "code",
      "execution_count": null,
      "metadata": {
        "id": "YXyN0e96NRGD"
      },
      "outputs": [],
      "source": [
        "right = pd.DataFrame({'key': ['foo', 'foo'], 'rval': [4, 5]})\n",
        "right"
      ]
    },
    {
      "cell_type": "code",
      "execution_count": null,
      "metadata": {
        "id": "T-oH1793NRGD"
      },
      "outputs": [],
      "source": [
        "pd.merge(left, right, on='key')"
      ]
    },
    {
      "cell_type": "markdown",
      "metadata": {
        "id": "kG01rFY-NRGD"
      },
      "source": [
        "Другой пример, который можно привести:"
      ]
    },
    {
      "cell_type": "code",
      "execution_count": null,
      "metadata": {
        "id": "BCCRQ_JGNRGE"
      },
      "outputs": [],
      "source": [
        "left = pd.DataFrame({'key': ['foo', 'bar'], 'lval': [1, 2]})\n",
        "left"
      ]
    },
    {
      "cell_type": "code",
      "execution_count": null,
      "metadata": {
        "id": "v_Tzam_nNRGE"
      },
      "outputs": [],
      "source": [
        "right = pd.DataFrame({'key': ['foo', 'bar'], 'rval': [4, 5]})\n",
        "right"
      ]
    },
    {
      "cell_type": "code",
      "execution_count": null,
      "metadata": {
        "id": "Y2K6RqUjNRGE"
      },
      "outputs": [],
      "source": [
        "pd.merge(left, right, on='key')"
      ]
    },
    {
      "cell_type": "markdown",
      "metadata": {
        "id": "R1OJBx7WNRGE"
      },
      "source": [
        "## Группировка"
      ]
    },
    {
      "cell_type": "markdown",
      "metadata": {
        "id": "oXZjH3LKNRGE"
      },
      "source": [
        "Под группировкой (`\"group by\"`) понимаем процесс, включающий один или несколько следующих шагов: \n",
        "\n",
        "- Разделение (`Splitting`) данных на группы по некоторым критериям.\n",
        "- Независимое применение (`Applying`) функции к каждой группе.\n",
        "- Объединение (`Combining`) результатов в структуру данных.\n",
        "\n",
        "Подробнее см. в [Документации](https://pandas.pydata.org/pandas-docs/stable/user_guide/groupby.html#groupby)"
      ]
    },
    {
      "cell_type": "code",
      "execution_count": null,
      "metadata": {
        "id": "TfexuolcNRGE"
      },
      "outputs": [],
      "source": [
        "df = pd.DataFrame({'A': ['foo', 'bar', 'foo', 'bar',\n",
        "                         'foo', 'bar', 'foo', 'foo'],\n",
        "                   'B': ['one', 'one', 'two', 'three',\n",
        "                         'two', 'two', 'one', 'three'],\n",
        "                   'C': np.random.randn(8),\n",
        "                   'D': np.random.randn(8)})\n",
        "df"
      ]
    },
    {
      "cell_type": "markdown",
      "metadata": {
        "id": "W_JhmSnyNRGF"
      },
      "source": [
        "Группировка, а затем применение функции [`sum()`](https://pandas.pydata.org/pandas-docs/stable/reference/api/pandas.core.groupby.GroupBy.sum.html#pandas.core.groupby.GroupBy.sum) к полученным группам."
      ]
    },
    {
      "cell_type": "code",
      "execution_count": null,
      "metadata": {
        "id": "bCRF7fUgNRGF"
      },
      "outputs": [],
      "source": [
        "df.groupby('A').sum()"
      ]
    },
    {
      "cell_type": "markdown",
      "metadata": {
        "id": "NzdO7MjiNRGF"
      },
      "source": [
        "Группировка по нескольким столбцам образует иерархический (мультииндекс) индекс, и мы снова можем применить функцию `sum()`."
      ]
    },
    {
      "cell_type": "code",
      "execution_count": null,
      "metadata": {
        "id": "SuXAUxdZNRGF"
      },
      "outputs": [],
      "source": [
        "df.groupby(['A', 'B']).sum()"
      ]
    },
    {
      "cell_type": "markdown",
      "metadata": {
        "id": "z0lv-nHSNRGF"
      },
      "source": [
        "## Изменение формы"
      ]
    },
    {
      "cell_type": "markdown",
      "metadata": {
        "id": "8PViOstqNRGF"
      },
      "source": [
        "См. Документацию про [иерархическую индексацию](https://pandas.pydata.org/pandas-docs/stable/user_guide/advanced.html#advanced-hierarchical) и [изменение формы](https://pandas.pydata.org/pandas-docs/stable/user_guide/reshaping.html#reshaping-stacking)."
      ]
    },
    {
      "cell_type": "markdown",
      "metadata": {
        "id": "uDAtceajNRGF"
      },
      "source": [
        "### Stack"
      ]
    },
    {
      "cell_type": "code",
      "execution_count": null,
      "metadata": {
        "id": "41bs0E46NRGG"
      },
      "outputs": [],
      "source": [
        "tuples = list(zip(*[['bar', 'bar', 'baz', 'baz',\n",
        "                     'foo', 'foo', 'qux', 'qux'],\n",
        "                    ['one', 'two', 'one', 'two',\n",
        "                     'one', 'two', 'one', 'two']]))\n",
        "tuples"
      ]
    },
    {
      "cell_type": "code",
      "execution_count": null,
      "metadata": {
        "id": "YOK35dWuNRGG"
      },
      "outputs": [],
      "source": [
        "index = pd.MultiIndex.from_tuples(tuples, names=['first', 'second'])\n",
        "index"
      ]
    },
    {
      "cell_type": "code",
      "execution_count": null,
      "metadata": {
        "id": "-DDAZMQ0NRGG"
      },
      "outputs": [],
      "source": [
        "df = pd.DataFrame(np.random.randn(8, 2), index=index, columns=['A', 'B'])\n",
        "df"
      ]
    },
    {
      "cell_type": "code",
      "execution_count": null,
      "metadata": {
        "id": "XBqwhbMHNRGG"
      },
      "outputs": [],
      "source": [
        "df2 = df[:4]\n",
        "df2"
      ]
    },
    {
      "cell_type": "markdown",
      "metadata": {
        "id": "WUC3K6bvNRGG"
      },
      "source": [
        "Метод [`stack()`](https://pandas.pydata.org/pandas-docs/stable/reference/api/pandas.DataFrame.stack.html#pandas.DataFrame.stack) \"сжимает\" уровень в столбцах DataFrame."
      ]
    },
    {
      "cell_type": "code",
      "execution_count": null,
      "metadata": {
        "id": "19Z3nKtgNRGG"
      },
      "outputs": [],
      "source": [
        "stacked = df2.stack()\n",
        "stacked"
      ]
    },
    {
      "cell_type": "markdown",
      "metadata": {
        "id": "Me5CFJ7YNRGH"
      },
      "source": [
        "С \"уложенными\" (`\"stacked\"`) DataFrame или Series (имеющими MultiIndex в качестве индекса) обратная операция - [`unstack()`](https://pandas.pydata.org/pandas-docs/stable/reference/api/pandas.DataFrame.unstack.html#pandas.DataFrame.unstack), которая по умолчанию распаковывает последний уровень:"
      ]
    },
    {
      "cell_type": "code",
      "execution_count": null,
      "metadata": {
        "id": "HHVTPQ21NRGH"
      },
      "outputs": [],
      "source": [
        "stacked.unstack()"
      ]
    },
    {
      "cell_type": "code",
      "execution_count": null,
      "metadata": {
        "id": "gbFbmzaqNRGH"
      },
      "outputs": [],
      "source": [
        "stacked.unstack(1)"
      ]
    },
    {
      "cell_type": "code",
      "execution_count": null,
      "metadata": {
        "id": "QPjFic7-NRGH"
      },
      "outputs": [],
      "source": [
        "stacked.unstack(0)"
      ]
    },
    {
      "cell_type": "markdown",
      "metadata": {
        "id": "J8pGz0ISNRGH"
      },
      "source": [
        "### Сводные таблицы (Pivot tables)"
      ]
    },
    {
      "cell_type": "markdown",
      "metadata": {
        "id": "O3fgy1BnNRGH"
      },
      "source": [
        "См. секцию [Документации](https://pandas.pydata.org/pandas-docs/stable/user_guide/reshaping.html#reshaping-pivot)"
      ]
    },
    {
      "cell_type": "code",
      "execution_count": null,
      "metadata": {
        "id": "1i86Dh09NRGI"
      },
      "outputs": [],
      "source": [
        "df = pd.DataFrame({'A': ['one', 'one', 'two', 'three'] * 3,\n",
        "                   'B': ['A', 'B', 'C'] * 4,\n",
        "                   'C': ['foo', 'foo', 'foo', 'bar', 'bar', 'bar'] * 2,\n",
        "                   'D': np.random.randn(12),\n",
        "                   'E': np.random.randn(12)})\n",
        "df"
      ]
    },
    {
      "cell_type": "markdown",
      "metadata": {
        "id": "q6tinL22NRGI"
      },
      "source": [
        "Мы можем очень легко создать сводные таблицы из этих данных:"
      ]
    },
    {
      "cell_type": "code",
      "execution_count": null,
      "metadata": {
        "id": "fU4B_8AbNRGI"
      },
      "outputs": [],
      "source": [
        "pd.pivot_table(df, values='D', index=['A', 'B'], columns=['C'])"
      ]
    },
    {
      "cell_type": "markdown",
      "metadata": {
        "id": "uWMtBenfNRGI"
      },
      "source": [
        "## Временные ряды"
      ]
    },
    {
      "cell_type": "markdown",
      "metadata": {
        "id": "frO-3wyYNRGI"
      },
      "source": [
        "pandas имеет простые, мощные и эффективные функции для выполнения операций передискретизации во время преобразования частоты (например, преобразование секундных данных в 5-минутные данные). См. [документацию по временным рядам](https://pandas.pydata.org/pandas-docs/stable/user_guide/timeseries.html#timeseries)."
      ]
    },
    {
      "cell_type": "code",
      "execution_count": null,
      "metadata": {
        "id": "goz1RJf9NRGI"
      },
      "outputs": [],
      "source": [
        "rng = pd.date_range('1/1/2012', periods=100, freq='S')\n",
        "rng[:10]"
      ]
    },
    {
      "cell_type": "code",
      "execution_count": null,
      "metadata": {
        "id": "KtCbI2r7NRGI"
      },
      "outputs": [],
      "source": [
        "ts = pd.Series(np.random.randint(0, 500, len(rng)), index=rng)\n",
        "ts[:10]"
      ]
    },
    {
      "cell_type": "code",
      "execution_count": null,
      "metadata": {
        "id": "JnolEZb6NRGJ"
      },
      "outputs": [],
      "source": [
        "ts.resample('5Min').sum()"
      ]
    },
    {
      "cell_type": "markdown",
      "metadata": {
        "id": "ZZli6J2FNRGJ"
      },
      "source": [
        "Представление часового пояса:"
      ]
    },
    {
      "cell_type": "code",
      "execution_count": null,
      "metadata": {
        "id": "N_grtQhWNRGJ"
      },
      "outputs": [],
      "source": [
        "rng = pd.date_range('3/6/2012 00:00', periods=5, freq='D')\n",
        "rng"
      ]
    },
    {
      "cell_type": "code",
      "execution_count": null,
      "metadata": {
        "id": "w_2lVUmUNRGJ"
      },
      "outputs": [],
      "source": [
        "ts = pd.Series(np.random.randn(len(rng)), rng)\n",
        "ts"
      ]
    },
    {
      "cell_type": "code",
      "execution_count": null,
      "metadata": {
        "id": "g8IIxJjYNRGJ"
      },
      "outputs": [],
      "source": [
        "ts"
      ]
    },
    {
      "cell_type": "code",
      "execution_count": null,
      "metadata": {
        "id": "xCMMsSKkNRGJ"
      },
      "outputs": [],
      "source": [
        "ts_utc = ts.tz_localize('UTC')\n",
        "ts_utc"
      ]
    },
    {
      "cell_type": "markdown",
      "metadata": {
        "id": "tNQUTKxXNRGJ"
      },
      "source": [
        "Преобразование в другой часовой пояс:"
      ]
    },
    {
      "cell_type": "code",
      "execution_count": null,
      "metadata": {
        "id": "7cga5HSbNRGJ"
      },
      "outputs": [],
      "source": [
        "ts_utc.tz_convert('US/Eastern')"
      ]
    },
    {
      "cell_type": "markdown",
      "metadata": {
        "id": "BMmn-a5yNRGK"
      },
      "source": [
        "Преобразование между представлениями промежутка времени:"
      ]
    },
    {
      "cell_type": "code",
      "execution_count": null,
      "metadata": {
        "id": "nEVplVUiNRGK"
      },
      "outputs": [],
      "source": [
        "rng = pd.date_range('1/1/2012', periods=5, freq='M')\n",
        "rng"
      ]
    },
    {
      "cell_type": "code",
      "execution_count": null,
      "metadata": {
        "id": "qMVmNRviNRGK"
      },
      "outputs": [],
      "source": [
        "ts = pd.Series(np.random.randn(len(rng)), index=rng)\n",
        "ts"
      ]
    },
    {
      "cell_type": "code",
      "execution_count": null,
      "metadata": {
        "id": "-uzBSEwtNRGK"
      },
      "outputs": [],
      "source": [
        "ps = ts.to_period()\n",
        "ps"
      ]
    },
    {
      "cell_type": "code",
      "execution_count": null,
      "metadata": {
        "id": "0YKqaIkFNRGK"
      },
      "outputs": [],
      "source": [
        "ps.to_timestamp()"
      ]
    },
    {
      "cell_type": "markdown",
      "metadata": {
        "id": "YDCi9wJoNRGK"
      },
      "source": [
        "Преобразование между периодом и меткой времени позволяет использовать некоторые удобные арифметические функции. В следующем примере мы преобразуем ежеквартальную частоту с годом, заканчивающимся в ноябре, в 9 утра конца месяца, следующего за концом квартала:"
      ]
    },
    {
      "cell_type": "code",
      "execution_count": null,
      "metadata": {
        "id": "lbVwShZXNRGK"
      },
      "outputs": [],
      "source": [
        "prng = pd.period_range('1990Q1', '2000Q4', freq='Q-NOV')\n",
        "prng"
      ]
    },
    {
      "cell_type": "code",
      "execution_count": null,
      "metadata": {
        "id": "Y_pt-nk-NRGL"
      },
      "outputs": [],
      "source": [
        "ts = pd.Series(np.random.randn(len(prng)), prng)\n",
        "ts[:10]"
      ]
    },
    {
      "cell_type": "code",
      "execution_count": null,
      "metadata": {
        "id": "w41Set6jNRGL"
      },
      "outputs": [],
      "source": [
        "ts.index = (prng.asfreq('M', 'e') + 1).asfreq('H', 's') + 9\n",
        "ts[:10]"
      ]
    },
    {
      "cell_type": "code",
      "execution_count": null,
      "metadata": {
        "id": "6JSZ5CxUNRGL"
      },
      "outputs": [],
      "source": [
        "ts.head()"
      ]
    },
    {
      "cell_type": "markdown",
      "metadata": {
        "id": "pE6_yWmiNRGL"
      },
      "source": [
        "## Категории"
      ]
    },
    {
      "cell_type": "markdown",
      "metadata": {
        "id": "GKnFpQbYNRGL"
      },
      "source": [
        "pandas могут включать категориальные данные в `DataFrame`, см. [введение в категории](https://pandas.pydata.org/pandas-docs/stable/user_guide/categorical.html#categorical) и [документацию по API](https://pandas.pydata.org/pandas-docs/stable/reference/arrays.html#api-arrays-categorical)."
      ]
    },
    {
      "cell_type": "code",
      "execution_count": null,
      "metadata": {
        "id": "LUKqLrtPNRGL"
      },
      "outputs": [],
      "source": [
        "df = pd.DataFrame({\"id\": [1, 2, 3, 4, 5, 6], \n",
        "                   \"raw_grade\": ['a', 'b', 'b', 'a', 'a', 'e']})"
      ]
    },
    {
      "cell_type": "markdown",
      "metadata": {
        "id": "sblgJtduNRGM"
      },
      "source": [
        "Преобразуйте необработанные оценки в категориальный тип данных."
      ]
    },
    {
      "cell_type": "code",
      "execution_count": null,
      "metadata": {
        "id": "sfsVYHYENRGM"
      },
      "outputs": [],
      "source": [
        "df[\"grade\"] = df[\"raw_grade\"].astype(\"category\")\n",
        "df[\"grade\"]"
      ]
    },
    {
      "cell_type": "markdown",
      "metadata": {
        "id": "et7u2TwoNRGM"
      },
      "source": [
        "Переименуйте категории в более выразительные имена (присвоение [`Series.cat.categories()`](https://pandas.pydata.org/pandas-docs/stable/reference/api/pandas.Series.cat.categories.html#pandas.Series.cat.categories) на месте!)"
      ]
    },
    {
      "cell_type": "code",
      "execution_count": null,
      "metadata": {
        "id": "tzaRfjiyNRGM"
      },
      "outputs": [],
      "source": [
        "df[\"grade\"] = df[\"grade\"].cat.set_categories([\"very bad\", \"bad\", \"medium\", \"good\", \"very good\"])\n",
        "df[\"grade\"]"
      ]
    },
    {
      "cell_type": "markdown",
      "metadata": {
        "id": "g_tCXKxZNRGM"
      },
      "source": [
        "Сортировка осуществляется по категориям, а не в лексическом порядке."
      ]
    },
    {
      "cell_type": "code",
      "execution_count": null,
      "metadata": {
        "id": "ugmfJX0ENRGM"
      },
      "outputs": [],
      "source": [
        "df.sort_values(by=\"grade\")"
      ]
    },
    {
      "cell_type": "markdown",
      "metadata": {
        "id": "0YoqNrCbNRGM"
      },
      "source": [
        "При группировке по столбцу категорий также отображаются пустые категории."
      ]
    },
    {
      "cell_type": "code",
      "execution_count": null,
      "metadata": {
        "id": "uUvC6RjlNRGM"
      },
      "outputs": [],
      "source": [
        "df.groupby(\"grade\").size()"
      ]
    },
    {
      "cell_type": "markdown",
      "metadata": {
        "id": "-cpXzNe2NRGN"
      },
      "source": [
        "## Plotting"
      ]
    },
    {
      "cell_type": "markdown",
      "metadata": {
        "id": "LjdZj47ONRGN"
      },
      "source": [
        "Подробнее в [Документации](https://pandas.pydata.org/pandas-docs/stable/user_guide/visualization.html#visualization)"
      ]
    },
    {
      "cell_type": "markdown",
      "metadata": {
        "id": "kSAeXnIONRGN"
      },
      "source": [
        "Используем стандартное соглашение для ссылки на `API matplotlib`:"
      ]
    },
    {
      "cell_type": "code",
      "execution_count": null,
      "metadata": {
        "id": "1fgnJzazNRGN"
      },
      "outputs": [],
      "source": [
        "import matplotlib.pyplot as plt"
      ]
    },
    {
      "cell_type": "code",
      "execution_count": null,
      "metadata": {
        "id": "UP2mFaDSNRGN"
      },
      "outputs": [],
      "source": [
        "ts = pd.Series(np.random.randn(1000), \n",
        "               index=pd.date_range('1/1/2000', periods=1000))\n",
        "ts"
      ]
    },
    {
      "cell_type": "code",
      "execution_count": null,
      "metadata": {
        "id": "peR4JcAJNRGN"
      },
      "outputs": [],
      "source": [
        "ts = ts.cumsum()\n",
        "ts"
      ]
    },
    {
      "cell_type": "code",
      "execution_count": null,
      "metadata": {
        "id": "L9Wu4sQDNRGN"
      },
      "outputs": [],
      "source": [
        "ts.plot();"
      ]
    },
    {
      "cell_type": "markdown",
      "metadata": {
        "id": "LmPwGvzeNRGO"
      },
      "source": [
        "В `DataFrame` метод [`plot()`](https://pandas.pydata.org/pandas-docs/stable/reference/api/pandas.DataFrame.plot.html#pandas.DataFrame.plot) удобен для построения всех столбцов с метками:"
      ]
    },
    {
      "cell_type": "code",
      "execution_count": null,
      "metadata": {
        "id": "WcmSNVcsNRGO"
      },
      "outputs": [],
      "source": [
        "df = pd.DataFrame(np.random.randn(1000, 4), index=ts.index,\n",
        "                  columns=['A', 'B', 'C', 'D'])\n",
        "df.head()"
      ]
    },
    {
      "cell_type": "code",
      "execution_count": null,
      "metadata": {
        "id": "SBbmQ9poNRGO"
      },
      "outputs": [],
      "source": [
        "df = df.cumsum()\n",
        "df.head()"
      ]
    },
    {
      "cell_type": "code",
      "execution_count": null,
      "metadata": {
        "id": "ktTPa-zuNRGO"
      },
      "outputs": [],
      "source": [
        "df.plot(legend='best');"
      ]
    },
    {
      "cell_type": "markdown",
      "metadata": {
        "id": "_gLAuLs9NRGO"
      },
      "source": [
        "## Получение и записаь данных"
      ]
    },
    {
      "cell_type": "markdown",
      "metadata": {
        "id": "jqZM3ZfFNRGO"
      },
      "source": [
        "### CSV"
      ]
    },
    {
      "cell_type": "markdown",
      "metadata": {
        "id": "SozWr5y_NRGO"
      },
      "source": [
        "см. [про запись в csv файлы](https://pandas.pydata.org/pandas-docs/stable/user_guide/io.html#io-store-in-csv)"
      ]
    },
    {
      "cell_type": "code",
      "execution_count": null,
      "metadata": {
        "id": "rekwVPE0NRGO"
      },
      "outputs": [],
      "source": [
        "df.to_csv('foo.csv')"
      ]
    },
    {
      "cell_type": "markdown",
      "metadata": {
        "id": "gwDZjLkWNRGP"
      },
      "source": [
        "см. [про чтенеи csv файлов](https://pandas.pydata.org/pandas-docs/stable/user_guide/io.html#io-read-csv-table)"
      ]
    },
    {
      "cell_type": "code",
      "execution_count": null,
      "metadata": {
        "id": "j8vPoCmKNRGP"
      },
      "outputs": [],
      "source": [
        "pd.read_csv('foo.csv')"
      ]
    },
    {
      "cell_type": "markdown",
      "metadata": {
        "id": "g-boEUbZNRGP"
      },
      "source": [
        "### HDF5"
      ]
    },
    {
      "cell_type": "markdown",
      "metadata": {
        "id": "fQx_ja7ANRGP"
      },
      "source": [
        "см. про чтение и запись в [`HDFStores`](https://pandas.pydata.org/pandas-docs/stable/user_guide/io.html#io-hdf5)"
      ]
    },
    {
      "cell_type": "markdown",
      "metadata": {
        "id": "Ax9Pg7nONRGP"
      },
      "source": [
        "Запись в `HDF5` хранилище:"
      ]
    },
    {
      "cell_type": "code",
      "execution_count": null,
      "metadata": {
        "id": "a0NM1N_FNRGP"
      },
      "outputs": [],
      "source": [
        "df.to_hdf('foo.h5', 'df')"
      ]
    },
    {
      "cell_type": "markdown",
      "metadata": {
        "id": "Hwk6mHHCNRGP"
      },
      "source": [
        "Чтение из `HDF5` хранилища:"
      ]
    },
    {
      "cell_type": "code",
      "execution_count": null,
      "metadata": {
        "id": "bPWH9J4vNRGP"
      },
      "outputs": [],
      "source": [
        "pd.read_hdf('foo.h5', 'df')"
      ]
    },
    {
      "cell_type": "markdown",
      "metadata": {
        "id": "kVkZDvhANRGP"
      },
      "source": [
        "### Excel"
      ]
    },
    {
      "cell_type": "markdown",
      "metadata": {
        "id": "rHjZIvh7NRGQ"
      },
      "source": [
        "см. [про чтение и запись в MS Excel](https://pandas.pydata.org/pandas-docs/stable/user_guide/io.html#io-excel)"
      ]
    },
    {
      "cell_type": "markdown",
      "metadata": {
        "id": "WAy2yqx_NRGQ"
      },
      "source": [
        "Запись в excel файл:"
      ]
    },
    {
      "cell_type": "code",
      "execution_count": null,
      "metadata": {
        "id": "wq3LiDYtNRGQ"
      },
      "outputs": [],
      "source": [
        "df.to_excel('foo.xlsx', sheet_name='Sheet1')"
      ]
    },
    {
      "cell_type": "markdown",
      "metadata": {
        "id": "NKrmlVroNRGQ"
      },
      "source": [
        "Чтение из excel файла:"
      ]
    },
    {
      "cell_type": "code",
      "execution_count": null,
      "metadata": {
        "id": "khuTRPDwNRGQ"
      },
      "outputs": [],
      "source": [
        "pd.read_excel('foo.xlsx', 'Sheet1', index_col=None, na_values=['NA'])"
      ]
    },
    {
      "cell_type": "markdown",
      "metadata": {
        "id": "j1L_PC1xNRGQ"
      },
      "source": [
        "## Подсказки (Gotchas)"
      ]
    },
    {
      "cell_type": "markdown",
      "metadata": {
        "id": "5FE01mXdNRGQ"
      },
      "source": [
        "Если пытаетесь выполнить операцию, то можете увидеть исключение, например:"
      ]
    },
    {
      "cell_type": "code",
      "execution_count": null,
      "metadata": {
        "id": "lZnYpqPgNRGQ"
      },
      "outputs": [],
      "source": [
        "if pd.Series([False, True, False]):\n",
        "    print(\"I was true\")"
      ]
    },
    {
      "cell_type": "markdown",
      "metadata": {
        "id": "VjTUCKzGNRGR"
      },
      "source": [
        "Для объяснения см. [\"Сравнения\"](https://pandas.pydata.org/pandas-docs/stable/user_guide/basics.html#basics-compare).\n",
        "\n",
        "См. также [\"Подсказки\"](https://pandas.pydata.org/pandas-docs/stable/user_guide/gotchas.html#gotchas)."
      ]
    },
    {
      "cell_type": "markdown",
      "metadata": {
        "id": "dQvLWN19NRGR"
      },
      "source": [
        "# Дополнительно:\n",
        "    \n",
        "- Видео от автора pandas: [Wes McKinney: pandas in 10 minutes](https://youtu.be/_T8LGqJtuGc)\n",
        "- [Оригинал статьи](https://pandas.pydata.org/pandas-docs/stable/user_guide/10min.html)"
      ]
    },
    {
      "cell_type": "markdown",
      "metadata": {
        "id": "ag4LsLMaNRGR"
      },
      "source": [
        "<a href=\"https://t.me/init_python\"><img src=\"https://dfedorov.spb.ru/pandas/logo-telegram.png\" width=\"35\" height=\"35\" alt=\"telegram\" align=\"left\"></a>"
      ]
    },
    {
      "cell_type": "code",
      "execution_count": null,
      "metadata": {
        "id": "HOXyeyLnNRGR"
      },
      "outputs": [],
      "source": []
    }
  ],
  "metadata": {
    "kernelspec": {
      "display_name": "Python 3",
      "language": "python",
      "name": "python3"
    },
    "language_info": {
      "codemirror_mode": {
        "name": "ipython",
        "version": 3
      },
      "file_extension": ".py",
      "mimetype": "text/x-python",
      "name": "python",
      "nbconvert_exporter": "python",
      "pygments_lexer": "ipython3",
      "version": "3.8.3"
    },
    "colab": {
      "provenance": []
    }
  },
  "nbformat": 4,
  "nbformat_minor": 0
}